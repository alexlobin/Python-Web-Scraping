{
  "cells": [
    {
      "cell_type": "markdown",
      "metadata": {
        "id": "view-in-github",
        "colab_type": "text"
      },
      "source": [
        "<a href=\"https://colab.research.google.com/github/alexlobin/Python-Web-Scraping/blob/main/repositorio1%20.ipynb\" target=\"_parent\"><img src=\"https://colab.research.google.com/assets/colab-badge.svg\" alt=\"Open In Colab\"/></a>"
      ]
    },
    {
      "cell_type": "code",
      "source": [],
      "metadata": {
        "id": "fdv2gqcmtn-r"
      },
      "execution_count": null,
      "outputs": []
    },
    {
      "cell_type": "code",
      "source": [
        "from nbformat import v4 as nbf\n",
        "import json\n",
        "\n",
        "# Crear celdas del notebook\n",
        "cells = []\n",
        "\n",
        "# Título\n",
        "cells.append(nbf.new_markdown_cell(\"# Web Scraping de Reseñas de Amazon\\nEste notebook realiza scraping de reseñas de productos de Amazon utilizando `requests` y `BeautifulSoup`. Solo funciona con páginas públicas y sin CAPTCHA.\"))\n",
        "\n",
        "# Instalación de librerías\n",
        "cells.append(nbf.new_code_cell(\"!pip install requests beautifulsoup4 pandas\"))\n",
        "\n",
        "# Imports\n",
        "cells.append(nbf.new_code_cell(\"\"\"import requests\n",
        "from bs4 import BeautifulSoup\n",
        "import pandas as pd\n",
        "import time\"\"\"))\n",
        "\n",
        "# Headers\n",
        "cells.append(nbf.new_code_cell(\"\"\"HEADERS = {\n",
        "    'User-Agent': 'Mozilla/5.0 (Windows NT 10.0; Win64; x64)',\n",
        "    'Accept-Language': 'es-ES,es;q=0.9,en;q=0.8'\n",
        "}\"\"\"))\n",
        "\n",
        "# Función para obtener BeautifulSoup\n",
        "cells.append(nbf.new_code_cell(\"\"\"def get_soup(url):\n",
        "    response = requests.get(url, headers=HEADERS)\n",
        "    if response.status_code != 200:\n",
        "        print(f\"Error al acceder: {response.status_code}\")\n",
        "        return None\n",
        "    return BeautifulSoup(response.text, 'html.parser')\"\"\"))\n",
        "\n",
        "# Función para extraer reseñas\n",
        "cells.append(nbf.new_code_cell(\"\"\"def extraer_resenas(soup):\n",
        "    reseñas = []\n",
        "    bloques = soup.select(\"div[data-hook='review']\")\n",
        "    for b in bloques:\n",
        "        try:\n",
        "            autor = b.select_one(\"span.a-profile-name\").get_text(strip=True)\n",
        "            titulo = b.select_one(\"a.review-title\").get_text(strip=True)\n",
        "            texto = b.select_one(\"span.review-text-content\").get_text(strip=True)\n",
        "            calificacion = b.select_one(\"i[data-hook='review-star-rating']\").get_text(strip=True)\n",
        "            fecha = b.select_one(\"span.review-date\").get_text(strip=True)\n",
        "            reseñas.append({\n",
        "                \"autor\": autor,\n",
        "                \"titulo\": titulo,\n",
        "                \"texto\": texto,\n",
        "                \"calificación\": calificacion,\n",
        "                \"fecha\": fecha\n",
        "            })\n",
        "        except:\n",
        "            continue\n",
        "    return reseñas\"\"\"))\n",
        "\n",
        "# Scraping de varias páginas\n",
        "cells.append(nbf.new_code_cell(\"\"\"url_base = \"https://www.amazon.com/product-reviews/B08N5WRWNW/?pageNumber=\"\n",
        "todas_reseñas = []\n",
        "\n",
        "for i in range(1, 4):  # 3 páginas de ejemplo\n",
        "    print(f\"Procesando página {i}...\")\n",
        "    soup = get_soup(url_base + str(i))\n",
        "    if not soup:\n",
        "        break\n",
        "    reseñas = extraer_resenas(soup)\n",
        "    todas_reseñas.extend(reseñas)\n",
        "    time.sleep(2)  # Respetar servidor\n",
        "\n",
        "print(f\"Total reseñas extraídas: {len(todas_reseñas)}\")\"\"\"))\n",
        "\n",
        "# Guardar en CSV\n",
        "cells.append(nbf.new_code_cell(\"\"\"df = pd.DataFrame(todas_reseñas)\n",
        "df.to_csv(\"reseñas_amazon.csv\", index=False)\n",
        "df.head()\"\"\"))\n",
        "\n",
        "# Crear notebook\n",
        "notebook = nbf.new_notebook(cells=cells)\n",
        "\n",
        "# Guardar\n",
        "output_path = \"/content/Amazon_Scraper_Notebook.ipynb\"\n",
        "with open(output_path, \"w\", encoding=\"utf-8\") as f:\n",
        "    json.dump(notebook, f)\n",
        "\n",
        "output_path"
      ],
      "metadata": {
        "colab": {
          "base_uri": "https://localhost:8080/",
          "height": 35
        },
        "id": "2K2N617UussS",
        "outputId": "b2e311cd-57d1-457a-ad78-e40864f1c3ff"
      },
      "execution_count": 22,
      "outputs": [
        {
          "output_type": "execute_result",
          "data": {
            "text/plain": [
              "'/content/Amazon_Scraper_Notebook.ipynb'"
            ],
            "application/vnd.google.colaboratory.intrinsic+json": {
              "type": "string"
            }
          },
          "metadata": {},
          "execution_count": 22
        }
      ]
    }
  ],
  "metadata": {
    "anaconda-cloud": {},
    "kernelspec": {
      "display_name": "Python 3 (ipykernel)",
      "language": "python",
      "name": "python3"
    },
    "language_info": {
      "codemirror_mode": {
        "name": "ipython",
        "version": 3
      },
      "file_extension": ".py",
      "mimetype": "text/x-python",
      "name": "python",
      "nbconvert_exporter": "python",
      "pygments_lexer": "ipython3",
      "version": "3.8.13"
    },
    "vscode": {
      "interpreter": {
        "hash": "b6f9fe9f4b7182690503d8ecc2bae97b0ee3ebf54e877167ae4d28c119a56988"
      }
    },
    "colab": {
      "provenance": [],
      "include_colab_link": true
    }
  },
  "nbformat": 4,
  "nbformat_minor": 0
}